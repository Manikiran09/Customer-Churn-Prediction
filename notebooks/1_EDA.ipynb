{
 "cells": [
  {
   "cell_type": "code",
   "execution_count": null,
   "id": "732e0243-d96c-4d1f-b115-20289dd38a1d",
   "metadata": {},
   "outputs": [],
   "source": [
    "# 1_EDA.ipynb\n",
    "\n",
    "import pandas as pd\n",
    "import seaborn as sns\n",
    "import matplotlib.pyplot as plt"
   ]
  },
  {
   "cell_type": "code",
   "execution_count": null,
   "id": "9ee21d34-b93d-4018-8c0c-444bff9c9c37",
   "metadata": {},
   "outputs": [],
   "source": [
    "# Load the dataset\n",
    "df = pd.read_csv('../data/Churn_Modelling.csv')\n"
   ]
  },
  {
   "cell_type": "code",
   "execution_count": null,
   "id": "cb496c47-c77a-4efb-a315-bea3a6d087ff",
   "metadata": {},
   "outputs": [],
   "source": [
    "# Display shape and columns\n",
    "print(\"Shape:\", df.shape)\n",
    "print(\"Columns:\", df.columns.tolist())"
   ]
  },
  {
   "cell_type": "code",
   "execution_count": null,
   "id": "e1f0197f-2c2c-4f51-b69b-83cd843433d0",
   "metadata": {},
   "outputs": [],
   "source": [
    "# Display first 5 rows\n",
    "display(df.head())\n"
   ]
  },
  {
   "cell_type": "code",
   "execution_count": null,
   "id": "caa59466-bfe7-404b-bc5a-d8b7c0efa07e",
   "metadata": {},
   "outputs": [],
   "source": [
    "# Check for null values\n",
    "print(\"Missing values:\\n\", df.isnull().sum())"
   ]
  },
  {
   "cell_type": "code",
   "execution_count": null,
   "id": "6350a8e2-c3f6-4fd4-8445-ae765b9e9870",
   "metadata": {},
   "outputs": [],
   "source": [
    "# Summary statistics\n",
    "display(df.describe())"
   ]
  },
  {
   "cell_type": "code",
   "execution_count": null,
   "id": "4d08198b-e520-4229-a741-1855e24e2cea",
   "metadata": {},
   "outputs": [],
   "source": [
    "# Count of churned vs retained\n",
    "sns.countplot(x='Exited', data=df)\n",
    "plt.title('Churn Count (0 = Retained, 1 = Churned)')\n",
    "plt.show()"
   ]
  },
  {
   "cell_type": "code",
   "execution_count": null,
   "id": "566e9503-7f91-4f07-a12a-19f161203c3c",
   "metadata": {},
   "outputs": [],
   "source": [
    "# Gender distribution\n",
    "sns.countplot(x='Gender', hue='Exited', data=df)\n",
    "plt.title('Churn by Gender')\n",
    "plt.show()"
   ]
  },
  {
   "cell_type": "code",
   "execution_count": null,
   "id": "2a88a64f-7a7d-4bd8-b224-4f006f75d78e",
   "metadata": {},
   "outputs": [],
   "source": [
    "# Geography distribution\n",
    "sns.countplot(x='Geography', hue='Exited', data=df)\n",
    "plt.title('Churn by Geography')\n",
    "plt.show()"
   ]
  },
  {
   "cell_type": "code",
   "execution_count": null,
   "id": "babb12cc-1942-4dea-bca6-6d6794654881",
   "metadata": {},
   "outputs": [],
   "source": [
    "# Correlation heatmap\n",
    "plt.figure(figsize=(12, 8))\n",
    "sns.heatmap(df.corr(), annot=True, cmap='coolwarm')\n",
    "plt.title('Correlation Heatmap')\n",
    "plt.show()"
   ]
  }
 ],
 "metadata": {
  "kernelspec": {
   "display_name": "Python 3 (ipykernel)",
   "language": "python",
   "name": "python3"
  },
  "language_info": {
   "codemirror_mode": {
    "name": "ipython",
    "version": 3
   },
   "file_extension": ".py",
   "mimetype": "text/x-python",
   "name": "python",
   "nbconvert_exporter": "python",
   "pygments_lexer": "ipython3",
   "version": "3.12.7"
  }
 },
 "nbformat": 4,
 "nbformat_minor": 5
}
